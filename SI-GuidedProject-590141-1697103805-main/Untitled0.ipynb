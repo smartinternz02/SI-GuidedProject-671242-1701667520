{
 "cells": [
  {
   "cell_type": "code",
   "execution_count": 1,
   "metadata": {
    "id": "wXHutINc6bgP"
   },
   "outputs": [],
   "source": [
    "import numpy as np\n",
    "import pandas as pd\n",
    "import csv\n",
    "import matplotlib.pyplot as plt\n",
    "import seaborn as sns\n",
    "\n"
   ]
  },
  {
   "cell_type": "code",
   "execution_count": 2,
   "metadata": {
    "colab": {
     "base_uri": "https://localhost:8080/",
     "height": 273
    },
    "id": "zYdTze6k8FLD",
    "outputId": "bee8e9b0-cfac-446f-fc4f-f7ba0db688f4"
   },
   "outputs": [
    {
     "data": {
      "text/html": [
       "<div>\n",
       "<style scoped>\n",
       "    .dataframe tbody tr th:only-of-type {\n",
       "        vertical-align: middle;\n",
       "    }\n",
       "\n",
       "    .dataframe tbody tr th {\n",
       "        vertical-align: top;\n",
       "    }\n",
       "\n",
       "    .dataframe thead th {\n",
       "        text-align: right;\n",
       "    }\n",
       "</style>\n",
       "<table border=\"1\" class=\"dataframe\">\n",
       "  <thead>\n",
       "    <tr style=\"text-align: right;\">\n",
       "      <th></th>\n",
       "      <th>Country/Territory</th>\n",
       "      <th>Region</th>\n",
       "      <th>C/T</th>\n",
       "      <th>Edition</th>\n",
       "      <th>Status</th>\n",
       "      <th>PR rating</th>\n",
       "      <th>CL rating</th>\n",
       "      <th>A1</th>\n",
       "      <th>A2</th>\n",
       "      <th>A3</th>\n",
       "      <th>...</th>\n",
       "      <th>F3</th>\n",
       "      <th>F4</th>\n",
       "      <th>F</th>\n",
       "      <th>G1</th>\n",
       "      <th>G2</th>\n",
       "      <th>G3</th>\n",
       "      <th>G4</th>\n",
       "      <th>G</th>\n",
       "      <th>CL</th>\n",
       "      <th>Total</th>\n",
       "    </tr>\n",
       "  </thead>\n",
       "  <tbody>\n",
       "    <tr>\n",
       "      <th>0</th>\n",
       "      <td>Abkhazia</td>\n",
       "      <td>Eurasia</td>\n",
       "      <td>t</td>\n",
       "      <td>2022</td>\n",
       "      <td>PF</td>\n",
       "      <td>5</td>\n",
       "      <td>5</td>\n",
       "      <td>2</td>\n",
       "      <td>2</td>\n",
       "      <td>1</td>\n",
       "      <td>...</td>\n",
       "      <td>1</td>\n",
       "      <td>1</td>\n",
       "      <td>4</td>\n",
       "      <td>1</td>\n",
       "      <td>1</td>\n",
       "      <td>2</td>\n",
       "      <td>1</td>\n",
       "      <td>5</td>\n",
       "      <td>23</td>\n",
       "      <td>40</td>\n",
       "    </tr>\n",
       "    <tr>\n",
       "      <th>1</th>\n",
       "      <td>Afghanistan</td>\n",
       "      <td>Asia</td>\n",
       "      <td>c</td>\n",
       "      <td>2022</td>\n",
       "      <td>NF</td>\n",
       "      <td>7</td>\n",
       "      <td>6</td>\n",
       "      <td>0</td>\n",
       "      <td>0</td>\n",
       "      <td>0</td>\n",
       "      <td>...</td>\n",
       "      <td>0</td>\n",
       "      <td>0</td>\n",
       "      <td>0</td>\n",
       "      <td>0</td>\n",
       "      <td>1</td>\n",
       "      <td>0</td>\n",
       "      <td>1</td>\n",
       "      <td>2</td>\n",
       "      <td>9</td>\n",
       "      <td>10</td>\n",
       "    </tr>\n",
       "    <tr>\n",
       "      <th>2</th>\n",
       "      <td>Albania</td>\n",
       "      <td>Europe</td>\n",
       "      <td>c</td>\n",
       "      <td>2022</td>\n",
       "      <td>PF</td>\n",
       "      <td>3</td>\n",
       "      <td>3</td>\n",
       "      <td>3</td>\n",
       "      <td>3</td>\n",
       "      <td>3</td>\n",
       "      <td>...</td>\n",
       "      <td>2</td>\n",
       "      <td>3</td>\n",
       "      <td>9</td>\n",
       "      <td>3</td>\n",
       "      <td>2</td>\n",
       "      <td>2</td>\n",
       "      <td>2</td>\n",
       "      <td>9</td>\n",
       "      <td>39</td>\n",
       "      <td>67</td>\n",
       "    </tr>\n",
       "    <tr>\n",
       "      <th>3</th>\n",
       "      <td>Algeria</td>\n",
       "      <td>Africa</td>\n",
       "      <td>c</td>\n",
       "      <td>2022</td>\n",
       "      <td>NF</td>\n",
       "      <td>6</td>\n",
       "      <td>5</td>\n",
       "      <td>1</td>\n",
       "      <td>1</td>\n",
       "      <td>1</td>\n",
       "      <td>...</td>\n",
       "      <td>2</td>\n",
       "      <td>2</td>\n",
       "      <td>6</td>\n",
       "      <td>2</td>\n",
       "      <td>2</td>\n",
       "      <td>2</td>\n",
       "      <td>1</td>\n",
       "      <td>7</td>\n",
       "      <td>22</td>\n",
       "      <td>32</td>\n",
       "    </tr>\n",
       "    <tr>\n",
       "      <th>4</th>\n",
       "      <td>Andorra</td>\n",
       "      <td>Europe</td>\n",
       "      <td>c</td>\n",
       "      <td>2022</td>\n",
       "      <td>F</td>\n",
       "      <td>1</td>\n",
       "      <td>1</td>\n",
       "      <td>4</td>\n",
       "      <td>4</td>\n",
       "      <td>4</td>\n",
       "      <td>...</td>\n",
       "      <td>4</td>\n",
       "      <td>3</td>\n",
       "      <td>15</td>\n",
       "      <td>4</td>\n",
       "      <td>4</td>\n",
       "      <td>3</td>\n",
       "      <td>4</td>\n",
       "      <td>15</td>\n",
       "      <td>55</td>\n",
       "      <td>93</td>\n",
       "    </tr>\n",
       "  </tbody>\n",
       "</table>\n",
       "<p>5 rows × 42 columns</p>\n",
       "</div>"
      ],
      "text/plain": [
       "  Country/Territory   Region C/T  Edition Status  PR rating  CL rating  A1  \\\n",
       "0          Abkhazia  Eurasia   t     2022     PF          5          5   2   \n",
       "1       Afghanistan     Asia   c     2022     NF          7          6   0   \n",
       "2           Albania   Europe   c     2022     PF          3          3   3   \n",
       "3           Algeria   Africa   c     2022     NF          6          5   1   \n",
       "4           Andorra   Europe   c     2022      F          1          1   4   \n",
       "\n",
       "   A2  A3  ...  F3  F4   F  G1  G2  G3  G4   G  CL  Total  \n",
       "0   2   1  ...   1   1   4   1   1   2   1   5  23     40  \n",
       "1   0   0  ...   0   0   0   0   1   0   1   2   9     10  \n",
       "2   3   3  ...   2   3   9   3   2   2   2   9  39     67  \n",
       "3   1   1  ...   2   2   6   2   2   2   1   7  22     32  \n",
       "4   4   4  ...   4   3  15   4   4   3   4  15  55     93  \n",
       "\n",
       "[5 rows x 42 columns]"
      ]
     },
     "execution_count": 2,
     "metadata": {},
     "output_type": "execute_result"
    }
   ],
   "source": [
    "data=pd.read_csv('Freedom in the World 2013-2022 Dataset (Ver 2.18.23).csv')\n",
    "data.head()"
   ]
  },
  {
   "cell_type": "code",
   "execution_count": 3,
   "metadata": {
    "colab": {
     "base_uri": "https://localhost:8080/"
    },
    "id": "_RHKrVs2970L",
    "outputId": "10850a5d-f85d-402b-8b69-ea40901d1c23"
   },
   "outputs": [
    {
     "name": "stdout",
     "output_type": "stream",
     "text": [
      "<class 'pandas.core.frame.DataFrame'>\n",
      "RangeIndex: 2095 entries, 0 to 2094\n",
      "Data columns (total 42 columns):\n",
      " #   Column             Non-Null Count  Dtype \n",
      "---  ------             --------------  ----- \n",
      " 0   Country/Territory  2095 non-null   object\n",
      " 1   Region             2095 non-null   object\n",
      " 2   C/T                2095 non-null   object\n",
      " 3   Edition            2095 non-null   int64 \n",
      " 4   Status             2095 non-null   object\n",
      " 5   PR rating          2095 non-null   int64 \n",
      " 6   CL rating          2095 non-null   int64 \n",
      " 7   A1                 2095 non-null   int64 \n",
      " 8   A2                 2095 non-null   int64 \n",
      " 9   A3                 2095 non-null   int64 \n",
      " 10  A                  2095 non-null   int64 \n",
      " 11  B1                 2095 non-null   int64 \n",
      " 12  B2                 2095 non-null   int64 \n",
      " 13  B3                 2095 non-null   int64 \n",
      " 14  B4                 2095 non-null   int64 \n",
      " 15  B                  2095 non-null   int64 \n",
      " 16  C1                 2095 non-null   int64 \n",
      " 17  C2                 2095 non-null   int64 \n",
      " 18  C3                 2095 non-null   int64 \n",
      " 19  C                  2095 non-null   int64 \n",
      " 20  PR                 2095 non-null   int64 \n",
      " 21  D1                 2095 non-null   int64 \n",
      " 22  D2                 2095 non-null   int64 \n",
      " 23  D3                 2095 non-null   int64 \n",
      " 24  D4                 2095 non-null   int64 \n",
      " 25  D                  2095 non-null   int64 \n",
      " 26  E1                 2095 non-null   int64 \n",
      " 27  E2                 2095 non-null   int64 \n",
      " 28  E3                 2095 non-null   int64 \n",
      " 29  E                  2095 non-null   int64 \n",
      " 30  F1                 2095 non-null   int64 \n",
      " 31  F2                 2095 non-null   int64 \n",
      " 32  F3                 2095 non-null   int64 \n",
      " 33  F4                 2095 non-null   int64 \n",
      " 34  F                  2095 non-null   int64 \n",
      " 35  G1                 2095 non-null   int64 \n",
      " 36  G2                 2095 non-null   int64 \n",
      " 37  G3                 2095 non-null   int64 \n",
      " 38  G4                 2095 non-null   int64 \n",
      " 39  G                  2095 non-null   int64 \n",
      " 40  CL                 2095 non-null   int64 \n",
      " 41  Total              2095 non-null   int64 \n",
      "dtypes: int64(38), object(4)\n",
      "memory usage: 687.6+ KB\n"
     ]
    }
   ],
   "source": [
    "data.info()"
   ]
  },
  {
   "cell_type": "code",
   "execution_count": 4,
   "metadata": {
    "colab": {
     "base_uri": "https://localhost:8080/"
    },
    "id": "O2GAmWS--Evr",
    "outputId": "ab02944e-08cf-46d6-a626-c0c164b64342"
   },
   "outputs": [
    {
     "data": {
      "text/plain": [
       "Country/Territory    0\n",
       "Region               0\n",
       "C/T                  0\n",
       "Edition              0\n",
       "Status               0\n",
       "PR rating            0\n",
       "CL rating            0\n",
       "A1                   0\n",
       "A2                   0\n",
       "A3                   0\n",
       "A                    0\n",
       "B1                   0\n",
       "B2                   0\n",
       "B3                   0\n",
       "B4                   0\n",
       "B                    0\n",
       "C1                   0\n",
       "C2                   0\n",
       "C3                   0\n",
       "C                    0\n",
       "PR                   0\n",
       "D1                   0\n",
       "D2                   0\n",
       "D3                   0\n",
       "D4                   0\n",
       "D                    0\n",
       "E1                   0\n",
       "E2                   0\n",
       "E3                   0\n",
       "E                    0\n",
       "F1                   0\n",
       "F2                   0\n",
       "F3                   0\n",
       "F4                   0\n",
       "F                    0\n",
       "G1                   0\n",
       "G2                   0\n",
       "G3                   0\n",
       "G4                   0\n",
       "G                    0\n",
       "CL                   0\n",
       "Total                0\n",
       "dtype: int64"
      ]
     },
     "execution_count": 4,
     "metadata": {},
     "output_type": "execute_result"
    }
   ],
   "source": [
    "data.isnull().sum()"
   ]
  },
  {
   "cell_type": "code",
   "execution_count": 5,
   "metadata": {
    "id": "MrI6A-q4CdXJ"
   },
   "outputs": [],
   "source": [
    "\n",
    "\n",
    "# Assuming 'data' is your DataFrame\n",
    "columns_to_drop = ['Edition', 'C/T', 'A1', 'A2', 'A3', 'A', 'B', 'C', 'D', 'E', 'F', 'G', 'B1', 'B2', 'B3', 'B4', 'C1', 'C2', 'C3', 'D1', 'D2', 'D3', 'D4', 'E1', 'E2', 'E3', 'F1', 'F2', 'F3', 'F4', 'G1', 'G2', 'G3', 'G4']\n",
    "data = data.drop(columns_to_drop, axis=1)\n"
   ]
  },
  {
   "cell_type": "code",
   "execution_count": 6,
   "metadata": {
    "colab": {
     "base_uri": "https://localhost:8080/",
     "height": 423
    },
    "id": "PP9stuqzEo0R",
    "outputId": "977e4e99-6fb9-454c-8672-e216dcf47c54"
   },
   "outputs": [
    {
     "data": {
      "text/html": [
       "<div>\n",
       "<style scoped>\n",
       "    .dataframe tbody tr th:only-of-type {\n",
       "        vertical-align: middle;\n",
       "    }\n",
       "\n",
       "    .dataframe tbody tr th {\n",
       "        vertical-align: top;\n",
       "    }\n",
       "\n",
       "    .dataframe thead th {\n",
       "        text-align: right;\n",
       "    }\n",
       "</style>\n",
       "<table border=\"1\" class=\"dataframe\">\n",
       "  <thead>\n",
       "    <tr style=\"text-align: right;\">\n",
       "      <th></th>\n",
       "      <th>Country/Territory</th>\n",
       "      <th>Region</th>\n",
       "      <th>Status</th>\n",
       "      <th>PR rating</th>\n",
       "      <th>CL rating</th>\n",
       "      <th>PR</th>\n",
       "      <th>CL</th>\n",
       "      <th>Total</th>\n",
       "    </tr>\n",
       "  </thead>\n",
       "  <tbody>\n",
       "    <tr>\n",
       "      <th>0</th>\n",
       "      <td>Abkhazia</td>\n",
       "      <td>Eurasia</td>\n",
       "      <td>PF</td>\n",
       "      <td>5</td>\n",
       "      <td>5</td>\n",
       "      <td>17</td>\n",
       "      <td>23</td>\n",
       "      <td>40</td>\n",
       "    </tr>\n",
       "    <tr>\n",
       "      <th>1</th>\n",
       "      <td>Afghanistan</td>\n",
       "      <td>Asia</td>\n",
       "      <td>NF</td>\n",
       "      <td>7</td>\n",
       "      <td>6</td>\n",
       "      <td>1</td>\n",
       "      <td>9</td>\n",
       "      <td>10</td>\n",
       "    </tr>\n",
       "    <tr>\n",
       "      <th>2</th>\n",
       "      <td>Albania</td>\n",
       "      <td>Europe</td>\n",
       "      <td>PF</td>\n",
       "      <td>3</td>\n",
       "      <td>3</td>\n",
       "      <td>28</td>\n",
       "      <td>39</td>\n",
       "      <td>67</td>\n",
       "    </tr>\n",
       "    <tr>\n",
       "      <th>3</th>\n",
       "      <td>Algeria</td>\n",
       "      <td>Africa</td>\n",
       "      <td>NF</td>\n",
       "      <td>6</td>\n",
       "      <td>5</td>\n",
       "      <td>10</td>\n",
       "      <td>22</td>\n",
       "      <td>32</td>\n",
       "    </tr>\n",
       "    <tr>\n",
       "      <th>4</th>\n",
       "      <td>Andorra</td>\n",
       "      <td>Europe</td>\n",
       "      <td>F</td>\n",
       "      <td>1</td>\n",
       "      <td>1</td>\n",
       "      <td>38</td>\n",
       "      <td>55</td>\n",
       "      <td>93</td>\n",
       "    </tr>\n",
       "    <tr>\n",
       "      <th>...</th>\n",
       "      <td>...</td>\n",
       "      <td>...</td>\n",
       "      <td>...</td>\n",
       "      <td>...</td>\n",
       "      <td>...</td>\n",
       "      <td>...</td>\n",
       "      <td>...</td>\n",
       "      <td>...</td>\n",
       "    </tr>\n",
       "    <tr>\n",
       "      <th>2090</th>\n",
       "      <td>West Bank</td>\n",
       "      <td>Middle East</td>\n",
       "      <td>NF</td>\n",
       "      <td>6</td>\n",
       "      <td>5</td>\n",
       "      <td>6</td>\n",
       "      <td>24</td>\n",
       "      <td>30</td>\n",
       "    </tr>\n",
       "    <tr>\n",
       "      <th>2091</th>\n",
       "      <td>Western Sahara</td>\n",
       "      <td>Africa</td>\n",
       "      <td>NF</td>\n",
       "      <td>7</td>\n",
       "      <td>7</td>\n",
       "      <td>-2</td>\n",
       "      <td>7</td>\n",
       "      <td>5</td>\n",
       "    </tr>\n",
       "    <tr>\n",
       "      <th>2092</th>\n",
       "      <td>Yemen</td>\n",
       "      <td>Middle East</td>\n",
       "      <td>NF</td>\n",
       "      <td>6</td>\n",
       "      <td>6</td>\n",
       "      <td>9</td>\n",
       "      <td>16</td>\n",
       "      <td>25</td>\n",
       "    </tr>\n",
       "    <tr>\n",
       "      <th>2093</th>\n",
       "      <td>Zambia</td>\n",
       "      <td>Africa</td>\n",
       "      <td>PF</td>\n",
       "      <td>3</td>\n",
       "      <td>4</td>\n",
       "      <td>28</td>\n",
       "      <td>34</td>\n",
       "      <td>62</td>\n",
       "    </tr>\n",
       "    <tr>\n",
       "      <th>2094</th>\n",
       "      <td>Zimbabwe</td>\n",
       "      <td>Africa</td>\n",
       "      <td>NF</td>\n",
       "      <td>6</td>\n",
       "      <td>6</td>\n",
       "      <td>11</td>\n",
       "      <td>14</td>\n",
       "      <td>25</td>\n",
       "    </tr>\n",
       "  </tbody>\n",
       "</table>\n",
       "<p>2095 rows × 8 columns</p>\n",
       "</div>"
      ],
      "text/plain": [
       "     Country/Territory       Region Status  PR rating  CL rating  PR  CL  \\\n",
       "0             Abkhazia      Eurasia     PF          5          5  17  23   \n",
       "1          Afghanistan         Asia     NF          7          6   1   9   \n",
       "2              Albania       Europe     PF          3          3  28  39   \n",
       "3              Algeria       Africa     NF          6          5  10  22   \n",
       "4              Andorra       Europe      F          1          1  38  55   \n",
       "...                ...          ...    ...        ...        ...  ..  ..   \n",
       "2090         West Bank  Middle East     NF          6          5   6  24   \n",
       "2091    Western Sahara       Africa     NF          7          7  -2   7   \n",
       "2092             Yemen  Middle East     NF          6          6   9  16   \n",
       "2093            Zambia       Africa     PF          3          4  28  34   \n",
       "2094          Zimbabwe       Africa     NF          6          6  11  14   \n",
       "\n",
       "      Total  \n",
       "0        40  \n",
       "1        10  \n",
       "2        67  \n",
       "3        32  \n",
       "4        93  \n",
       "...     ...  \n",
       "2090     30  \n",
       "2091      5  \n",
       "2092     25  \n",
       "2093     62  \n",
       "2094     25  \n",
       "\n",
       "[2095 rows x 8 columns]"
      ]
     },
     "execution_count": 6,
     "metadata": {},
     "output_type": "execute_result"
    }
   ],
   "source": [
    "data"
   ]
  },
  {
   "cell_type": "code",
   "execution_count": 7,
   "metadata": {
    "colab": {
     "base_uri": "https://localhost:8080/",
     "height": 300
    },
    "id": "92pL4UiwEuEr",
    "outputId": "86f3027b-d03a-425d-b4db-861e0188660b"
   },
   "outputs": [
    {
     "data": {
      "text/html": [
       "<div>\n",
       "<style scoped>\n",
       "    .dataframe tbody tr th:only-of-type {\n",
       "        vertical-align: middle;\n",
       "    }\n",
       "\n",
       "    .dataframe tbody tr th {\n",
       "        vertical-align: top;\n",
       "    }\n",
       "\n",
       "    .dataframe thead th {\n",
       "        text-align: right;\n",
       "    }\n",
       "</style>\n",
       "<table border=\"1\" class=\"dataframe\">\n",
       "  <thead>\n",
       "    <tr style=\"text-align: right;\">\n",
       "      <th></th>\n",
       "      <th>PR rating</th>\n",
       "      <th>CL rating</th>\n",
       "      <th>PR</th>\n",
       "      <th>CL</th>\n",
       "      <th>Total</th>\n",
       "    </tr>\n",
       "  </thead>\n",
       "  <tbody>\n",
       "    <tr>\n",
       "      <th>count</th>\n",
       "      <td>2095.000000</td>\n",
       "      <td>2095.000000</td>\n",
       "      <td>2095.000000</td>\n",
       "      <td>2095.000000</td>\n",
       "      <td>2095.000000</td>\n",
       "    </tr>\n",
       "    <tr>\n",
       "      <th>mean</th>\n",
       "      <td>3.575656</td>\n",
       "      <td>3.458234</td>\n",
       "      <td>22.848687</td>\n",
       "      <td>34.949403</td>\n",
       "      <td>57.798091</td>\n",
       "    </tr>\n",
       "    <tr>\n",
       "      <th>std</th>\n",
       "      <td>2.211561</td>\n",
       "      <td>1.932492</td>\n",
       "      <td>13.464039</td>\n",
       "      <td>17.126707</td>\n",
       "      <td>30.288533</td>\n",
       "    </tr>\n",
       "    <tr>\n",
       "      <th>min</th>\n",
       "      <td>1.000000</td>\n",
       "      <td>1.000000</td>\n",
       "      <td>-3.000000</td>\n",
       "      <td>1.000000</td>\n",
       "      <td>-1.000000</td>\n",
       "    </tr>\n",
       "    <tr>\n",
       "      <th>25%</th>\n",
       "      <td>1.000000</td>\n",
       "      <td>2.000000</td>\n",
       "      <td>10.000000</td>\n",
       "      <td>20.500000</td>\n",
       "      <td>30.000000</td>\n",
       "    </tr>\n",
       "    <tr>\n",
       "      <th>50%</th>\n",
       "      <td>3.000000</td>\n",
       "      <td>3.000000</td>\n",
       "      <td>26.000000</td>\n",
       "      <td>36.000000</td>\n",
       "      <td>62.000000</td>\n",
       "    </tr>\n",
       "    <tr>\n",
       "      <th>75%</th>\n",
       "      <td>6.000000</td>\n",
       "      <td>5.000000</td>\n",
       "      <td>36.000000</td>\n",
       "      <td>51.000000</td>\n",
       "      <td>87.000000</td>\n",
       "    </tr>\n",
       "    <tr>\n",
       "      <th>max</th>\n",
       "      <td>7.000000</td>\n",
       "      <td>7.000000</td>\n",
       "      <td>40.000000</td>\n",
       "      <td>60.000000</td>\n",
       "      <td>100.000000</td>\n",
       "    </tr>\n",
       "  </tbody>\n",
       "</table>\n",
       "</div>"
      ],
      "text/plain": [
       "         PR rating    CL rating           PR           CL        Total\n",
       "count  2095.000000  2095.000000  2095.000000  2095.000000  2095.000000\n",
       "mean      3.575656     3.458234    22.848687    34.949403    57.798091\n",
       "std       2.211561     1.932492    13.464039    17.126707    30.288533\n",
       "min       1.000000     1.000000    -3.000000     1.000000    -1.000000\n",
       "25%       1.000000     2.000000    10.000000    20.500000    30.000000\n",
       "50%       3.000000     3.000000    26.000000    36.000000    62.000000\n",
       "75%       6.000000     5.000000    36.000000    51.000000    87.000000\n",
       "max       7.000000     7.000000    40.000000    60.000000   100.000000"
      ]
     },
     "execution_count": 7,
     "metadata": {},
     "output_type": "execute_result"
    }
   ],
   "source": [
    "data.describe()"
   ]
  },
  {
   "cell_type": "code",
   "execution_count": 8,
   "metadata": {
    "colab": {
     "base_uri": "https://localhost:8080/",
     "height": 466
    },
    "id": "k1aFbU23FD4a",
    "outputId": "f284b773-dd87-450e-a478-65ed92af64c4"
   },
   "outputs": [
    {
     "data": {
      "text/plain": [
       "<Axes: xlabel='Status', ylabel='count'>"
      ]
     },
     "execution_count": 8,
     "metadata": {},
     "output_type": "execute_result"
    },
    {
     "data": {
      "image/png": "[encoded data removed]",
      "text/plain": [
       "<Figure size 640x480 with 1 Axes>"
      ]
     },
     "metadata": {},
     "output_type": "display_data"
    }
   ],
   "source": [
    "sns.countplot(data=data,x='Status')"
   ]
  },
  {
   "cell_type": "code",
   "execution_count": 9,
   "metadata": {
    "colab": {
     "base_uri": "https://localhost:8080/",
     "height": 449
    },
    "id": "THVxqgSyFX3k",
    "outputId": "44b6f3bf-fc2a-4767-c0af-5a6583aef1d1"
   },
   "outputs": [
    {
     "data": {
      "image/png": "[encoded data removed]",
      "text/plain": [
       "<Figure size 640x480 with 1 Axes>"
      ]
     },
     "metadata": {},
     "output_type": "display_data"
    }
   ],
   "source": [
    "sns.barplot(data=data,x='Status',y='Total',hue='Region')\n",
    "plt.grid(True)"
   ]
  },
  {
   "cell_type": "code",
   "execution_count": 11,
   "metadata": {
    "colab": {
     "base_uri": "https://localhost:8080/",
     "height": 507
    },
    "id": "fwg4QuqfFx6G",
    "outputId": "2e48d54e-88d0-47b1-a916-f8e32e7958d5"
   },
   "outputs": [],
   "source": [
    "#sns.heatmap(data.corr(),annot=True)"
   ]
  },
  {
   "cell_type": "code",
   "execution_count": null,
   "metadata": {},
   "outputs": [],
   "source": []
  },
  {
   "cell_type": "code",
   "execution_count": null,
   "metadata": {},
   "outputs": [],
   "source": []
  },
  {
   "cell_type": "code",
   "execution_count": 12,
   "metadata": {
    "id": "tbWsCRK_GA3h"
   },
   "outputs": [],
   "source": [
    "from sklearn.model_selection import train_test_split\n",
    "\n",
    "# Split the data into training and testing sets.\n",
    "train_data, test_data = train_test_split(data, test_size=0.2, random_state=42)\n",
    "\n",
    "# Save the training and testing data to separate Excel files.\n",
    "train_data.to_csv('train_data.csv', index=False)\n",
    "test_data.to_csv('test_data.csv', index=False)\n"
   ]
  },
  {
   "cell_type": "code",
   "execution_count": 33,
   "metadata": {
    "tags": []
   },
   "outputs": [
    {
     "data": {
      "text/plain": [
       "Index(['Country/Territory', 'Region', 'Status', 'PR rating', 'CL rating', 'PR',\n",
       "       'CL', 'Total'],\n",
       "      dtype='object')"
      ]
     },
     "execution_count": 33,
     "metadata": {},
     "output_type": "execute_result"
    }
   ],
   "source": [
    "train_data.columns"
   ]
  },
  {
   "cell_type": "code",
   "execution_count": 13,
   "metadata": {
    "id": "eADUYqTbINXy"
   },
   "outputs": [],
   "source": [
    " features = ['PR rating', 'CL rating', 'PR', 'CL', 'Total']\n",
    " target = 'Status'"
   ]
  },
  {
   "cell_type": "code",
   "execution_count": 34,
   "metadata": {
    "colab": {
     "base_uri": "https://localhost:8080/"
    },
    "id": "nAx7JphPIcC4",
    "outputId": "1be01526-adf9-4126-b2e7-ed5e1a566c0c"
   },
   "outputs": [
    {
     "name": "stdout",
     "output_type": "stream",
     "text": [
      "      PR rating  CL rating  PR  CL  Total\n",
      "30            7          5   5  19     24\n",
      "1178          4          4  21  28     49\n",
      "1628          1          1  37  53     90\n",
      "764           2          2  31  50     81\n",
      "1317          3          3  27  35     62\n",
      "...         ...        ...  ..  ..    ...\n",
      "1638          5          5  16  25     41\n",
      "1095          1          1  38  56     94\n",
      "1130          6          6   7  10     17\n",
      "1294          3          4  29  34     63\n",
      "860           3          3  28  39     67\n",
      "\n",
      "[1676 rows x 5 columns]\n",
      "30      NF\n",
      "1178    PF\n",
      "1628     F\n",
      "764      F\n",
      "1317    PF\n",
      "        ..\n",
      "1638    PF\n",
      "1095     F\n",
      "1130    NF\n",
      "1294    PF\n",
      "860     PF\n",
      "Name: Status, Length: 1676, dtype: object\n"
     ]
    }
   ],
   "source": [
    "X_train = train_data[features]\n",
    "y_train = train_data[target]\n",
    "\n",
    "print(X_train)\n",
    "print(y_train)"
   ]
  },
  {
   "cell_type": "code",
   "execution_count": 35,
   "metadata": {
    "colab": {
     "base_uri": "https://localhost:8080/"
    },
    "id": "esgkPp1-IvVF",
    "outputId": "16c47910-c6e6-4261-c34b-37fc426f06ad"
   },
   "outputs": [
    {
     "name": "stdout",
     "output_type": "stream",
     "text": [
      "      PR rating  CL rating  PR  CL  Total\n",
      "210           5          5  17  23     40\n",
      "1169          4          4  20  33     53\n",
      "1146          5          4  14  30     44\n",
      "879           7          6   4  13     17\n",
      "29            1          1  38  54     92\n",
      "...         ...        ...  ..  ..    ...\n",
      "1941          7          7   1   2      3\n",
      "1337          4          4  22  29     51\n",
      "2083          1          1  40  57     97\n",
      "393           7          5   5  25     30\n",
      "1554          2          3  34  40     74\n",
      "\n",
      "[419 rows x 5 columns]\n",
      "210     PF\n",
      "1169    PF\n",
      "1146    PF\n",
      "879     NF\n",
      "29       F\n",
      "        ..\n",
      "1941    NF\n",
      "1337    PF\n",
      "2083     F\n",
      "393     NF\n",
      "1554     F\n",
      "Name: Status, Length: 419, dtype: object\n"
     ]
    }
   ],
   "source": [
    "X_test = test_data[features]\n",
    "y_test = test_data[target]\n",
    "\n",
    "print(X_test)\n",
    "print(y_test)"
   ]
  },
  {
   "cell_type": "code",
   "execution_count": 36,
   "metadata": {
    "colab": {
     "base_uri": "https://localhost:8080/",
     "height": 74
    },
    "id": "LoCMQPd7I8d-",
    "outputId": "f6a76b22-6557-45e6-d698-549a2b86e645"
   },
   "outputs": [
    {
     "data": {
      "text/html": [
       "<style>#sk-container-id-4 {color: black;}#sk-container-id-4 pre{padding: 0;}#sk-container-id-4 div.sk-toggleable {background-color: white;}#sk-container-id-4 label.sk-toggleable__label {cursor: pointer;display: block;width: 100%;margin-bottom: 0;padding: 0.3em;box-sizing: border-box;text-align: center;}#sk-container-id-4 label.sk-toggleable__label-arrow:before {content: \"▸\";float: left;margin-right: 0.25em;color: #696969;}#sk-container-id-4 label.sk-toggleable__label-arrow:hover:before {color: black;}#sk-container-id-4 div.sk-estimator:hover label.sk-toggleable__label-arrow:before {color: black;}#sk-container-id-4 div.sk-toggleable__content {max-height: 0;max-width: 0;overflow: hidden;text-align: left;background-color: #f0f8ff;}#sk-container-id-4 div.sk-toggleable__content pre {margin: 0.2em;color: black;border-radius: 0.25em;background-color: #f0f8ff;}#sk-container-id-4 input.sk-toggleable__control:checked~div.sk-toggleable__content {max-height: 200px;max-width: 100%;overflow: auto;}#sk-container-id-4 input.sk-toggleable__control:checked~label.sk-toggleable__label-arrow:before {content: \"▾\";}#sk-container-id-4 div.sk-estimator input.sk-toggleable__control:checked~label.sk-toggleable__label {background-color: #d4ebff;}#sk-container-id-4 div.sk-label input.sk-toggleable__control:checked~label.sk-toggleable__label {background-color: #d4ebff;}#sk-container-id-4 input.sk-hidden--visually {border: 0;clip: rect(1px 1px 1px 1px);clip: rect(1px, 1px, 1px, 1px);height: 1px;margin: -1px;overflow: hidden;padding: 0;position: absolute;width: 1px;}#sk-container-id-4 div.sk-estimator {font-family: monospace;background-color: #f0f8ff;border: 1px dotted black;border-radius: 0.25em;box-sizing: border-box;margin-bottom: 0.5em;}#sk-container-id-4 div.sk-estimator:hover {background-color: #d4ebff;}#sk-container-id-4 div.sk-parallel-item::after {content: \"\";width: 100%;border-bottom: 1px solid gray;flex-grow: 1;}#sk-container-id-4 div.sk-label:hover label.sk-toggleable__label {background-color: #d4ebff;}#sk-container-id-4 div.sk-serial::before {content: \"\";position: absolute;border-left: 1px solid gray;box-sizing: border-box;top: 0;bottom: 0;left: 50%;z-index: 0;}#sk-container-id-4 div.sk-serial {display: flex;flex-direction: column;align-items: center;background-color: white;padding-right: 0.2em;padding-left: 0.2em;position: relative;}#sk-container-id-4 div.sk-item {position: relative;z-index: 1;}#sk-container-id-4 div.sk-parallel {display: flex;align-items: stretch;justify-content: center;background-color: white;position: relative;}#sk-container-id-4 div.sk-item::before, #sk-container-id-4 div.sk-parallel-item::before {content: \"\";position: absolute;border-left: 1px solid gray;box-sizing: border-box;top: 0;bottom: 0;left: 50%;z-index: -1;}#sk-container-id-4 div.sk-parallel-item {display: flex;flex-direction: column;z-index: 1;position: relative;background-color: white;}#sk-container-id-4 div.sk-parallel-item:first-child::after {align-self: flex-end;width: 50%;}#sk-container-id-4 div.sk-parallel-item:last-child::after {align-self: flex-start;width: 50%;}#sk-container-id-4 div.sk-parallel-item:only-child::after {width: 0;}#sk-container-id-4 div.sk-dashed-wrapped {border: 1px dashed gray;margin: 0 0.4em 0.5em 0.4em;box-sizing: border-box;padding-bottom: 0.4em;background-color: white;}#sk-container-id-4 div.sk-label label {font-family: monospace;font-weight: bold;display: inline-block;line-height: 1.2em;}#sk-container-id-4 div.sk-label-container {text-align: center;}#sk-container-id-4 div.sk-container {/* jupyter's `normalize.less` sets `[hidden] { display: none; }` but bootstrap.min.css set `[hidden] { display: none !important; }` so we also need the `!important` here to be able to override the default hidden behavior on the sphinx rendered scikit-learn.org. See: https://github.com/scikit-learn/scikit-learn/issues/21755 */display: inline-block !important;position: relative;}#sk-container-id-4 div.sk-text-repr-fallback {display: none;}</style><div id=\"sk-container-id-4\" class=\"sk-top-container\"><div class=\"sk-text-repr-fallback\"><pre>KNeighborsClassifier()</pre><b>In a Jupyter environment, please rerun this cell to show the HTML representation or trust the notebook. <br />On GitHub, the HTML representation is unable to render, please try loading this page with nbviewer.org.</b></div><div class=\"sk-container\" hidden><div class=\"sk-item\"><div class=\"sk-estimator sk-toggleable\"><input class=\"sk-toggleable__control sk-hidden--visually\" id=\"sk-estimator-id-4\" type=\"checkbox\" checked><label for=\"sk-estimator-id-4\" class=\"sk-toggleable__label sk-toggleable__label-arrow\">KNeighborsClassifier</label><div class=\"sk-toggleable__content\"><pre>KNeighborsClassifier()</pre></div></div></div></div></div>"
      ],
      "text/plain": [
       "KNeighborsClassifier()"
      ]
     },
     "execution_count": 36,
     "metadata": {},
     "output_type": "execute_result"
    }
   ],
   "source": [
    "from sklearn.neighbors import KNeighborsClassifier\n",
    "knn= KNeighborsClassifier (n_neighbors=5, metric='minkowski', p=2)\n",
    "knn.fit(X_train, y_train)"
   ]
  },
  {
   "cell_type": "code",
   "execution_count": 37,
   "metadata": {
    "colab": {
     "base_uri": "https://localhost:8080/"
    },
    "id": "uHlky3mAJRG2",
    "outputId": "1c540096-7414-43db-b3f1-b718b50f80d4"
   },
   "outputs": [
    {
     "data": {
      "text/plain": [
       "array(['PF', 'PF', 'PF', 'NF', 'F', 'NF', 'F', 'NF', 'F', 'PF', 'PF',\n",
       "       'PF', 'NF', 'NF', 'PF', 'F', 'F', 'PF', 'F', 'F', 'F', 'F', 'NF',\n",
       "       'PF', 'PF', 'PF', 'F', 'NF', 'F', 'PF', 'F', 'NF', 'F', 'F', 'F',\n",
       "       'PF', 'F', 'F', 'PF', 'F', 'NF', 'PF', 'F', 'F', 'PF', 'NF', 'NF',\n",
       "       'NF', 'F', 'NF', 'F', 'NF', 'F', 'NF', 'NF', 'NF', 'PF', 'F', 'F',\n",
       "       'F', 'F', 'PF', 'F', 'NF', 'F', 'F', 'F', 'F', 'F', 'F', 'NF',\n",
       "       'NF', 'NF', 'F', 'F', 'PF', 'F', 'F', 'NF', 'PF', 'F', 'F', 'F',\n",
       "       'NF', 'PF', 'F', 'NF', 'F', 'PF', 'PF', 'NF', 'PF', 'F', 'PF',\n",
       "       'NF', 'PF', 'F', 'NF', 'PF', 'F', 'F', 'F', 'F', 'PF', 'PF', 'NF',\n",
       "       'F', 'NF', 'PF', 'F', 'PF', 'F', 'F', 'PF', 'PF', 'PF', 'F', 'PF',\n",
       "       'PF', 'F', 'NF', 'F', 'F', 'F', 'F', 'PF', 'PF', 'F', 'F', 'PF',\n",
       "       'NF', 'NF', 'PF', 'F', 'F', 'NF', 'F', 'NF', 'F', 'PF', 'PF', 'NF',\n",
       "       'F', 'PF', 'F', 'NF', 'F', 'PF', 'F', 'PF', 'F', 'PF', 'NF', 'F',\n",
       "       'NF', 'PF', 'NF', 'NF', 'F', 'PF', 'PF', 'PF', 'F', 'NF', 'F', 'F',\n",
       "       'PF', 'F', 'PF', 'F', 'PF', 'PF', 'F', 'F', 'F', 'NF', 'F', 'F',\n",
       "       'NF', 'NF', 'F', 'F', 'PF', 'F', 'PF', 'F', 'PF', 'PF', 'F', 'NF',\n",
       "       'F', 'NF', 'PF', 'NF', 'NF', 'NF', 'PF', 'F', 'NF', 'NF', 'F', 'F',\n",
       "       'NF', 'NF', 'PF', 'PF', 'PF', 'NF', 'PF', 'PF', 'PF', 'F', 'F',\n",
       "       'PF', 'NF', 'F', 'PF', 'NF', 'NF', 'F', 'F', 'F', 'PF', 'F', 'F',\n",
       "       'NF', 'PF', 'PF', 'PF', 'NF', 'NF', 'F', 'F', 'F', 'PF', 'PF', 'F',\n",
       "       'PF', 'F', 'PF', 'PF', 'NF', 'PF', 'F', 'F', 'PF', 'F', 'F', 'F',\n",
       "       'NF', 'PF', 'NF', 'PF', 'F', 'NF', 'NF', 'PF', 'F', 'PF', 'PF',\n",
       "       'F', 'F', 'F', 'PF', 'F', 'NF', 'F', 'F', 'F', 'PF', 'NF', 'PF',\n",
       "       'PF', 'F', 'PF', 'PF', 'PF', 'F', 'F', 'PF', 'NF', 'F', 'NF', 'F',\n",
       "       'PF', 'NF', 'PF', 'F', 'F', 'F', 'F', 'PF', 'F', 'NF', 'NF', 'F',\n",
       "       'F', 'NF', 'F', 'F', 'NF', 'F', 'PF', 'F', 'F', 'F', 'NF', 'F',\n",
       "       'PF', 'NF', 'PF', 'F', 'F', 'NF', 'F', 'PF', 'PF', 'F', 'F', 'F',\n",
       "       'NF', 'NF', 'F', 'PF', 'PF', 'F', 'F', 'PF', 'F', 'NF', 'NF', 'F',\n",
       "       'PF', 'PF', 'PF', 'F', 'PF', 'PF', 'NF', 'F', 'PF', 'F', 'NF',\n",
       "       'NF', 'NF', 'PF', 'NF', 'NF', 'PF', 'F', 'F', 'F', 'F', 'NF', 'PF',\n",
       "       'PF', 'NF', 'F', 'PF', 'F', 'PF', 'F', 'F', 'NF', 'PF', 'F', 'F',\n",
       "       'NF', 'PF', 'NF', 'F', 'PF', 'NF', 'PF', 'PF', 'F', 'PF', 'PF',\n",
       "       'F', 'F', 'F', 'F', 'F', 'F', 'PF', 'F', 'NF', 'NF', 'F', 'F',\n",
       "       'PF', 'NF', 'F', 'NF', 'PF', 'F', 'NF', 'NF', 'F', 'F', 'NF', 'PF',\n",
       "       'F', 'NF', 'NF', 'PF', 'NF', 'PF', 'PF', 'NF', 'NF', 'NF', 'PF',\n",
       "       'NF', 'NF', 'PF', 'F', 'NF', 'F'], dtype=object)"
      ]
     },
     "execution_count": 37,
     "metadata": {},
     "output_type": "execute_result"
    }
   ],
   "source": [
    "y_pred = knn.predict(X_test)\n",
    "y_pred"
   ]
  },
  {
   "cell_type": "code",
   "execution_count": 38,
   "metadata": {
    "colab": {
     "base_uri": "https://localhost:8080/"
    },
    "id": "M8reYETmJuwk",
    "outputId": "701eefae-7776-49cd-a983-0a327e4a84c5"
   },
   "outputs": [
    {
     "name": "stdout",
     "output_type": "stream",
     "text": [
      "Accuracy: 99.76133651551312\n"
     ]
    }
   ],
   "source": [
    "from sklearn.metrics import accuracy_score\n",
    "accuracy = accuracy_score (y_test, y_pred)\n",
    "print (f'Accuracy: {accuracy*100}')"
   ]
  },
  {
   "cell_type": "code",
   "execution_count": 39,
   "metadata": {
    "colab": {
     "base_uri": "https://localhost:8080/"
    },
    "id": "5fcfvhlqJ7uk",
    "outputId": "ec2131da-a7ad-4531-d151-b4929607e252"
   },
   "outputs": [
    {
     "name": "stdout",
     "output_type": "stream",
     "text": [
      "Report               precision    recall  f1-score   support\n",
      "\n",
      "           F       1.00      1.00      1.00       179\n",
      "          NF       0.99      1.00      1.00       108\n",
      "          PF       1.00      0.99      1.00       132\n",
      "\n",
      "    accuracy                           1.00       419\n",
      "   macro avg       1.00      1.00      1.00       419\n",
      "weighted avg       1.00      1.00      1.00       419\n",
      "\n"
     ]
    }
   ],
   "source": [
    "from sklearn.metrics import classification_report\n",
    "print(\"Report\", classification_report (y_test, y_pred))"
   ]
  },
  {
   "cell_type": "code",
   "execution_count": 40,
   "metadata": {
    "colab": {
     "base_uri": "https://localhost:8080/",
     "height": 74
    },
    "id": "RMvSTFx_KAK6",
    "outputId": "64190567-5ba3-4b90-84d8-3cc4bc8467dd"
   },
   "outputs": [
    {
     "data": {
      "text/html": [
       "<style>#sk-container-id-5 {color: black;}#sk-container-id-5 pre{padding: 0;}#sk-container-id-5 div.sk-toggleable {background-color: white;}#sk-container-id-5 label.sk-toggleable__label {cursor: pointer;display: block;width: 100%;margin-bottom: 0;padding: 0.3em;box-sizing: border-box;text-align: center;}#sk-container-id-5 label.sk-toggleable__label-arrow:before {content: \"▸\";float: left;margin-right: 0.25em;color: #696969;}#sk-container-id-5 label.sk-toggleable__label-arrow:hover:before {color: black;}#sk-container-id-5 div.sk-estimator:hover label.sk-toggleable__label-arrow:before {color: black;}#sk-container-id-5 div.sk-toggleable__content {max-height: 0;max-width: 0;overflow: hidden;text-align: left;background-color: #f0f8ff;}#sk-container-id-5 div.sk-toggleable__content pre {margin: 0.2em;color: black;border-radius: 0.25em;background-color: #f0f8ff;}#sk-container-id-5 input.sk-toggleable__control:checked~div.sk-toggleable__content {max-height: 200px;max-width: 100%;overflow: auto;}#sk-container-id-5 input.sk-toggleable__control:checked~label.sk-toggleable__label-arrow:before {content: \"▾\";}#sk-container-id-5 div.sk-estimator input.sk-toggleable__control:checked~label.sk-toggleable__label {background-color: #d4ebff;}#sk-container-id-5 div.sk-label input.sk-toggleable__control:checked~label.sk-toggleable__label {background-color: #d4ebff;}#sk-container-id-5 input.sk-hidden--visually {border: 0;clip: rect(1px 1px 1px 1px);clip: rect(1px, 1px, 1px, 1px);height: 1px;margin: -1px;overflow: hidden;padding: 0;position: absolute;width: 1px;}#sk-container-id-5 div.sk-estimator {font-family: monospace;background-color: #f0f8ff;border: 1px dotted black;border-radius: 0.25em;box-sizing: border-box;margin-bottom: 0.5em;}#sk-container-id-5 div.sk-estimator:hover {background-color: #d4ebff;}#sk-container-id-5 div.sk-parallel-item::after {content: \"\";width: 100%;border-bottom: 1px solid gray;flex-grow: 1;}#sk-container-id-5 div.sk-label:hover label.sk-toggleable__label {background-color: #d4ebff;}#sk-container-id-5 div.sk-serial::before {content: \"\";position: absolute;border-left: 1px solid gray;box-sizing: border-box;top: 0;bottom: 0;left: 50%;z-index: 0;}#sk-container-id-5 div.sk-serial {display: flex;flex-direction: column;align-items: center;background-color: white;padding-right: 0.2em;padding-left: 0.2em;position: relative;}#sk-container-id-5 div.sk-item {position: relative;z-index: 1;}#sk-container-id-5 div.sk-parallel {display: flex;align-items: stretch;justify-content: center;background-color: white;position: relative;}#sk-container-id-5 div.sk-item::before, #sk-container-id-5 div.sk-parallel-item::before {content: \"\";position: absolute;border-left: 1px solid gray;box-sizing: border-box;top: 0;bottom: 0;left: 50%;z-index: -1;}#sk-container-id-5 div.sk-parallel-item {display: flex;flex-direction: column;z-index: 1;position: relative;background-color: white;}#sk-container-id-5 div.sk-parallel-item:first-child::after {align-self: flex-end;width: 50%;}#sk-container-id-5 div.sk-parallel-item:last-child::after {align-self: flex-start;width: 50%;}#sk-container-id-5 div.sk-parallel-item:only-child::after {width: 0;}#sk-container-id-5 div.sk-dashed-wrapped {border: 1px dashed gray;margin: 0 0.4em 0.5em 0.4em;box-sizing: border-box;padding-bottom: 0.4em;background-color: white;}#sk-container-id-5 div.sk-label label {font-family: monospace;font-weight: bold;display: inline-block;line-height: 1.2em;}#sk-container-id-5 div.sk-label-container {text-align: center;}#sk-container-id-5 div.sk-container {/* jupyter's `normalize.less` sets `[hidden] { display: none; }` but bootstrap.min.css set `[hidden] { display: none !important; }` so we also need the `!important` here to be able to override the default hidden behavior on the sphinx rendered scikit-learn.org. See: https://github.com/scikit-learn/scikit-learn/issues/21755 */display: inline-block !important;position: relative;}#sk-container-id-5 div.sk-text-repr-fallback {display: none;}</style><div id=\"sk-container-id-5\" class=\"sk-top-container\"><div class=\"sk-text-repr-fallback\"><pre>SVC(random_state=0)</pre><b>In a Jupyter environment, please rerun this cell to show the HTML representation or trust the notebook. <br />On GitHub, the HTML representation is unable to render, please try loading this page with nbviewer.org.</b></div><div class=\"sk-container\" hidden><div class=\"sk-item\"><div class=\"sk-estimator sk-toggleable\"><input class=\"sk-toggleable__control sk-hidden--visually\" id=\"sk-estimator-id-5\" type=\"checkbox\" checked><label for=\"sk-estimator-id-5\" class=\"sk-toggleable__label sk-toggleable__label-arrow\">SVC</label><div class=\"sk-toggleable__content\"><pre>SVC(random_state=0)</pre></div></div></div></div></div>"
      ],
      "text/plain": [
       "SVC(random_state=0)"
      ]
     },
     "execution_count": 40,
     "metadata": {},
     "output_type": "execute_result"
    }
   ],
   "source": [
    "from sklearn.svm import SVC\n",
    "svm=SVC (kernel='rbf',random_state=0)\n",
    "svm.fit(X_train,y_train)"
   ]
  },
  {
   "cell_type": "code",
   "execution_count": 41,
   "metadata": {
    "id": "lxLx-paCKjmH"
   },
   "outputs": [],
   "source": [
    "y_pred_2=svm.predict(X_test)"
   ]
  },
  {
   "cell_type": "code",
   "execution_count": 42,
   "metadata": {
    "colab": {
     "base_uri": "https://localhost:8080/"
    },
    "id": "NO6xPxLwKmsH",
    "outputId": "af0e050a-01cb-41ea-fdf1-a10755136d54"
   },
   "outputs": [
    {
     "name": "stdout",
     "output_type": "stream",
     "text": [
      "Accuracy of SVM: 97.61336515513126\n"
     ]
    }
   ],
   "source": [
    "accuracy_2 = svm.score(X_test, y_test)\n",
    "print (\"Accuracy of SVM:\", accuracy_2*100)"
   ]
  },
  {
   "cell_type": "code",
   "execution_count": 43,
   "metadata": {
    "colab": {
     "base_uri": "https://localhost:8080/"
    },
    "id": "X6UYSUnvK2WX",
    "outputId": "7d83fdb4-b5b3-4fde-a1d5-4087eaa7e189"
   },
   "outputs": [
    {
     "name": "stdout",
     "output_type": "stream",
     "text": [
      "Report :                precision    recall  f1-score   support\n",
      "\n",
      "           F       0.98      1.00      0.99       179\n",
      "          NF       0.95      0.99      0.97       108\n",
      "          PF       0.99      0.93      0.96       132\n",
      "\n",
      "    accuracy                           0.98       419\n",
      "   macro avg       0.97      0.97      0.97       419\n",
      "weighted avg       0.98      0.98      0.98       419\n",
      "\n"
     ]
    }
   ],
   "source": [
    "from sklearn.metrics import classification_report\n",
    "print(\"Report : \", classification_report(y_test, y_pred_2))"
   ]
  },
  {
   "cell_type": "code",
   "execution_count": 44,
   "metadata": {
    "colab": {
     "base_uri": "https://localhost:8080/",
     "height": 74
    },
    "id": "Uofh0Vb_LJQI",
    "outputId": "957ebd76-3197-49d3-dfa5-77d25dd83f1d"
   },
   "outputs": [
    {
     "data": {
      "text/html": [
       "<style>#sk-container-id-6 {color: black;}#sk-container-id-6 pre{padding: 0;}#sk-container-id-6 div.sk-toggleable {background-color: white;}#sk-container-id-6 label.sk-toggleable__label {cursor: pointer;display: block;width: 100%;margin-bottom: 0;padding: 0.3em;box-sizing: border-box;text-align: center;}#sk-container-id-6 label.sk-toggleable__label-arrow:before {content: \"▸\";float: left;margin-right: 0.25em;color: #696969;}#sk-container-id-6 label.sk-toggleable__label-arrow:hover:before {color: black;}#sk-container-id-6 div.sk-estimator:hover label.sk-toggleable__label-arrow:before {color: black;}#sk-container-id-6 div.sk-toggleable__content {max-height: 0;max-width: 0;overflow: hidden;text-align: left;background-color: #f0f8ff;}#sk-container-id-6 div.sk-toggleable__content pre {margin: 0.2em;color: black;border-radius: 0.25em;background-color: #f0f8ff;}#sk-container-id-6 input.sk-toggleable__control:checked~div.sk-toggleable__content {max-height: 200px;max-width: 100%;overflow: auto;}#sk-container-id-6 input.sk-toggleable__control:checked~label.sk-toggleable__label-arrow:before {content: \"▾\";}#sk-container-id-6 div.sk-estimator input.sk-toggleable__control:checked~label.sk-toggleable__label {background-color: #d4ebff;}#sk-container-id-6 div.sk-label input.sk-toggleable__control:checked~label.sk-toggleable__label {background-color: #d4ebff;}#sk-container-id-6 input.sk-hidden--visually {border: 0;clip: rect(1px 1px 1px 1px);clip: rect(1px, 1px, 1px, 1px);height: 1px;margin: -1px;overflow: hidden;padding: 0;position: absolute;width: 1px;}#sk-container-id-6 div.sk-estimator {font-family: monospace;background-color: #f0f8ff;border: 1px dotted black;border-radius: 0.25em;box-sizing: border-box;margin-bottom: 0.5em;}#sk-container-id-6 div.sk-estimator:hover {background-color: #d4ebff;}#sk-container-id-6 div.sk-parallel-item::after {content: \"\";width: 100%;border-bottom: 1px solid gray;flex-grow: 1;}#sk-container-id-6 div.sk-label:hover label.sk-toggleable__label {background-color: #d4ebff;}#sk-container-id-6 div.sk-serial::before {content: \"\";position: absolute;border-left: 1px solid gray;box-sizing: border-box;top: 0;bottom: 0;left: 50%;z-index: 0;}#sk-container-id-6 div.sk-serial {display: flex;flex-direction: column;align-items: center;background-color: white;padding-right: 0.2em;padding-left: 0.2em;position: relative;}#sk-container-id-6 div.sk-item {position: relative;z-index: 1;}#sk-container-id-6 div.sk-parallel {display: flex;align-items: stretch;justify-content: center;background-color: white;position: relative;}#sk-container-id-6 div.sk-item::before, #sk-container-id-6 div.sk-parallel-item::before {content: \"\";position: absolute;border-left: 1px solid gray;box-sizing: border-box;top: 0;bottom: 0;left: 50%;z-index: -1;}#sk-container-id-6 div.sk-parallel-item {display: flex;flex-direction: column;z-index: 1;position: relative;background-color: white;}#sk-container-id-6 div.sk-parallel-item:first-child::after {align-self: flex-end;width: 50%;}#sk-container-id-6 div.sk-parallel-item:last-child::after {align-self: flex-start;width: 50%;}#sk-container-id-6 div.sk-parallel-item:only-child::after {width: 0;}#sk-container-id-6 div.sk-dashed-wrapped {border: 1px dashed gray;margin: 0 0.4em 0.5em 0.4em;box-sizing: border-box;padding-bottom: 0.4em;background-color: white;}#sk-container-id-6 div.sk-label label {font-family: monospace;font-weight: bold;display: inline-block;line-height: 1.2em;}#sk-container-id-6 div.sk-label-container {text-align: center;}#sk-container-id-6 div.sk-container {/* jupyter's `normalize.less` sets `[hidden] { display: none; }` but bootstrap.min.css set `[hidden] { display: none !important; }` so we also need the `!important` here to be able to override the default hidden behavior on the sphinx rendered scikit-learn.org. See: https://github.com/scikit-learn/scikit-learn/issues/21755 */display: inline-block !important;position: relative;}#sk-container-id-6 div.sk-text-repr-fallback {display: none;}</style><div id=\"sk-container-id-6\" class=\"sk-top-container\"><div class=\"sk-text-repr-fallback\"><pre>GaussianNB()</pre><b>In a Jupyter environment, please rerun this cell to show the HTML representation or trust the notebook. <br />On GitHub, the HTML representation is unable to render, please try loading this page with nbviewer.org.</b></div><div class=\"sk-container\" hidden><div class=\"sk-item\"><div class=\"sk-estimator sk-toggleable\"><input class=\"sk-toggleable__control sk-hidden--visually\" id=\"sk-estimator-id-6\" type=\"checkbox\" checked><label for=\"sk-estimator-id-6\" class=\"sk-toggleable__label sk-toggleable__label-arrow\">GaussianNB</label><div class=\"sk-toggleable__content\"><pre>GaussianNB()</pre></div></div></div></div></div>"
      ],
      "text/plain": [
       "GaussianNB()"
      ]
     },
     "execution_count": 44,
     "metadata": {},
     "output_type": "execute_result"
    }
   ],
   "source": [
    "from sklearn.naive_bayes import GaussianNB\n",
    "\n",
    "gnb=GaussianNB()\n",
    "gnb.fit(X_train, y_train)"
   ]
  },
  {
   "cell_type": "code",
   "execution_count": 45,
   "metadata": {
    "id": "hW9AwVtRLa6z"
   },
   "outputs": [],
   "source": [
    "y_pred_3 = gnb.predict(X_test)"
   ]
  },
  {
   "cell_type": "code",
   "execution_count": 46,
   "metadata": {
    "colab": {
     "base_uri": "https://localhost:8080/"
    },
    "id": "bPOORzdLLkFy",
    "outputId": "91fe12a2-dff0-4d2c-9132-92f781cf8594"
   },
   "outputs": [
    {
     "name": "stdout",
     "output_type": "stream",
     "text": [
      "Accuracy of Naive Bayes: 96.65871121718376\n"
     ]
    }
   ],
   "source": [
    "accuracy_3 = gnb.score(X_test, y_test)\n",
    "print (\"Accuracy of Naive Bayes:\", accuracy_3*100)"
   ]
  },
  {
   "cell_type": "code",
   "execution_count": 47,
   "metadata": {
    "colab": {
     "base_uri": "https://localhost:8080/"
    },
    "id": "sDEgTFpCLxfS",
    "outputId": "387cd1cb-8db4-42ae-d5c2-fa3e7e261da5"
   },
   "outputs": [
    {
     "name": "stdout",
     "output_type": "stream",
     "text": [
      "Report :               precision    recall  f1-score   support\n",
      "\n",
      "           F       1.00      0.94      0.97       179\n",
      "          NF       0.97      1.00      0.99       108\n",
      "          PF       0.92      0.98      0.95       132\n",
      "\n",
      "    accuracy                           0.97       419\n",
      "   macro avg       0.96      0.97      0.97       419\n",
      "weighted avg       0.97      0.97      0.97       419\n",
      "\n"
     ]
    }
   ],
   "source": [
    "from sklearn.metrics import classification_report\n",
    "print(\"Report :\" , classification_report(y_test, y_pred_3))"
   ]
  },
  {
   "cell_type": "code",
   "execution_count": null,
   "metadata": {},
   "outputs": [],
   "source": []
  },
  {
   "cell_type": "code",
   "execution_count": 49,
   "metadata": {
    "colab": {
     "base_uri": "https://localhost:8080/"
    },
    "id": "DCJo8oJqMGWG",
    "outputId": "8e1c74cf-b5ad-498b-8900-e2d578cca311"
   },
   "outputs": [
    {
     "name": "stderr",
     "output_type": "stream",
     "text": [
      "C:\\Users\\HP\\anaconda3\\Lib\\site-packages\\sklearn\\base.py:464: UserWarning: X does not have valid feature names, but SVC was fitted with feature names\n",
      "  warnings.warn(\n"
     ]
    }
   ],
   "source": [
    "res=svm.predict([[5,4,14,30,43]])"
   ]
  },
  {
   "cell_type": "code",
   "execution_count": 50,
   "metadata": {
    "colab": {
     "base_uri": "https://localhost:8080/"
    },
    "id": "vyS1ckraMNEz",
    "outputId": "b9f943c0-dcca-4b33-86da-a6b657f3da9b"
   },
   "outputs": [
    {
     "data": {
      "text/plain": [
       "array(['PF'], dtype=object)"
      ]
     },
     "execution_count": 50,
     "metadata": {},
     "output_type": "execute_result"
    }
   ],
   "source": [
    "res"
   ]
  },
  {
   "cell_type": "code",
   "execution_count": 30,
   "metadata": {
    "colab": {
     "base_uri": "https://localhost:8080/"
    },
    "id": "-3IS_t9dMQ8m",
    "outputId": "99de4d9f-e967-4237-f3ac-bfa60d71c66b"
   },
   "outputs": [
    {
     "data": {
      "text/plain": [
       "[KNeighborsClassifier(), SVC(random_state=0), GaussianNB()]"
      ]
     },
     "execution_count": 30,
     "metadata": {},
     "output_type": "execute_result"
    }
   ],
   "source": [
    "classifiers = [knn, svm, gnb]\n",
    "classifiers"
   ]
  },
  {
   "cell_type": "code",
   "execution_count": 31,
   "metadata": {
    "colab": {
     "base_uri": "https://localhost:8080/"
    },
    "id": "LntlCMxeMi50",
    "outputId": "f585a9d3-0011-40d2-a1a5-93a534d279e0"
   },
   "outputs": [
    {
     "name": "stdout",
     "output_type": "stream",
     "text": [
      "         Model   Accuracy\n",
      "0          KNN  99.761337\n",
      "1          SVM  97.613365\n",
      "2  Naive Bayes  96.658711\n"
     ]
    }
   ],
   "source": [
    "accuracy_df = pd.DataFrame({\n",
    "\n",
    "'Model': ['KNN', 'SVM', 'Naive Bayes'],\n",
    "'Accuracy': [accuracy*100, accuracy_2*100, accuracy_3*100]\n",
    " })\n",
    "print(accuracy_df)"
   ]
  },
  {
   "cell_type": "code",
   "execution_count": 32,
   "metadata": {
    "id": "TMGAY7zTM4IW",
    "tags": []
   },
   "outputs": [],
   "source": [
    "import joblib\n",
    "classifiers=joblib.dump(svm, 'svm.pkl')"
   ]
  },
  {
   "cell_type": "code",
   "execution_count": null,
   "metadata": {},
   "outputs": [],
   "source": []
  },
  {
   "cell_type": "code",
   "execution_count": null,
   "metadata": {},
   "outputs": [],
   "source": []
  }
 ],
 "metadata": {
  "colab": {
   "provenance": []
  },
  "kernelspec": {
   "display_name": "Python 3 (ipykernel)",
   "language": "python",
   "name": "python3"
  },
  "language_info": {
   "codemirror_mode": {
    "name": "ipython",
    "version": 3
   },
   "file_extension": ".py",
   "mimetype": "text/x-python",
   "name": "python",
   "nbconvert_exporter": "python",
   "pygments_lexer": "ipython3",
   "version": "3.11.5"
  }
 },
 "nbformat": 4,
 "nbformat_minor": 4
}
